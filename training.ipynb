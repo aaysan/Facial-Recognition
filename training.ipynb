{
  "nbformat": 4,
  "nbformat_minor": 0,
  "metadata": {
    "colab": {
      "name": "training.ipynb",
      "version": "0.3.2",
      "provenance": [],
      "collapsed_sections": [
        "R_dyz7YndFcC",
        "Djut3CIKHI5Y",
        "lfYqpCKFbZYF"
      ],
      "toc_visible": true,
      "include_colab_link": true
    },
    "kernelspec": {
      "name": "python3",
      "display_name": "Python 3"
    },
    "accelerator": "GPU"
  },
  "cells": [
    {
      "cell_type": "markdown",
      "metadata": {
        "id": "view-in-github",
        "colab_type": "text"
      },
      "source": [
        "<a href=\"https://colab.research.google.com/github/aaysan/Facial-Recognition/blob/master/training.ipynb\" target=\"_parent\"><img src=\"https://colab.research.google.com/assets/colab-badge.svg\" alt=\"Open In Colab\"/></a>"
      ]
    },
    {
      "metadata": {
        "id": "lMMlngRKOkAH",
        "colab_type": "text"
      },
      "cell_type": "markdown",
      "source": [
        "# Installing Dependencies"
      ]
    },
    {
      "metadata": {
        "id": "VJRgEoBWcoEX",
        "colab_type": "text"
      },
      "cell_type": "markdown",
      "source": [
        "Tensorflow is avaliable in Colab. \n",
        "\n",
        "Therefore, the only library I need is PyDrive in order to get the data from my Google Drive."
      ]
    },
    {
      "metadata": {
        "id": "YYnWZpR8WDX4",
        "colab_type": "code",
        "colab": {}
      },
      "cell_type": "code",
      "source": [
        "!pip install PyDrive #install pyDrive\n"
      ],
      "execution_count": 0,
      "outputs": []
    },
    {
      "metadata": {
        "id": "kEsocQRScxhC",
        "colab_type": "text"
      },
      "cell_type": "markdown",
      "source": [
        "Git repository is cloned for the training. This repo contains all the models as well as the training scripts of Facenet."
      ]
    },
    {
      "metadata": {
        "id": "02EWy6vzWOUg",
        "colab_type": "code",
        "colab": {}
      },
      "cell_type": "code",
      "source": [
        "!git clone https://github.com/davidsandberg/facenet.git #get the facenet repository"
      ],
      "execution_count": 0,
      "outputs": []
    },
    {
      "metadata": {
        "id": "z0BANMGNcBwG",
        "colab_type": "text"
      },
      "cell_type": "markdown",
      "source": [
        "Making sure tensorflow import correctly is my last step of initiliazations. I do this because I had problems with it before and I want to make sure everything works correctly until this point.\n",
        "\n",
        "I have received two errors very common errors. One was when I tried to import Keras and one was when I tried to import tensorflow itself. Both seemed to work after reseting the runtimes and re-configuring everything from the beginning."
      ]
    },
    {
      "metadata": {
        "id": "1eIT23cdZJvT",
        "colab_type": "code",
        "colab": {}
      },
      "cell_type": "code",
      "source": [
        "import tensorflow\n",
        "import pydrive"
      ],
      "execution_count": 0,
      "outputs": []
    },
    {
      "metadata": {
        "id": "auw5B_WBb5J1",
        "colab_type": "text"
      },
      "cell_type": "markdown",
      "source": [
        "The snippet below will acquire a facenet model. This model was used in [here](https://github.com/davidsandberg/facenet/wiki/Classifier-training-of-inception-resnet-v1) and it turns out to be a useful model."
      ]
    },
    {
      "metadata": {
        "id": "mBYrcpM7WqJO",
        "colab_type": "code",
        "colab": {}
      },
      "cell_type": "code",
      "source": [
        "from pydrive.auth import GoogleAuth\n",
        "from pydrive.drive import GoogleDrive\n",
        "from google.colab import auth\n",
        "from oauth2client.client import GoogleCredentials\n",
        "import os\n",
        "\n",
        "auth.authenticate_user()\n",
        "gauth = GoogleAuth()\n",
        "gauth.credentials = GoogleCredentials.get_application_default()\n",
        "drive = GoogleDrive(gauth)\n"
      ],
      "execution_count": 0,
      "outputs": []
    },
    {
      "metadata": {
        "id": "rWLk-brMc62u",
        "colab_type": "text"
      },
      "cell_type": "markdown",
      "source": [
        "The code below get authentication to enter to Google Drive, then downloads all the training data locally."
      ]
    },
    {
      "metadata": {
        "id": "7oYQwqouZhap",
        "colab_type": "code",
        "colab": {}
      },
      "cell_type": "code",
      "source": [
        "\n",
        "file_list = drive.ListFile(\n",
        "    {'q': \"'1Lzy5bEQns67Jpl0BQ31eKlufibdwRzpV' in parents\"}).GetList()\n",
        "\n",
        "local_download_path = os.path.expanduser('/content/face_data/model_dir')\n",
        "  \n",
        "try:\n",
        "  os.makedirs(local_download_path)\n",
        "except: pass\n",
        "\n",
        "for f in file_list:\n",
        "  fname = os.path.join(local_download_path, f['title'])\n",
        "  print(fname)\n",
        "  downloaded = drive.CreateFile({'id': f['id']})\n",
        "  content = downloaded.GetContentFile(fname)\n",
        "  "
      ],
      "execution_count": 0,
      "outputs": []
    },
    {
      "metadata": {
        "id": "bfonmnjlOr_Y",
        "colab_type": "text"
      },
      "cell_type": "markdown",
      "source": [
        "# Acquiring the Data\n"
      ]
    },
    {
      "metadata": {
        "id": "R_dyz7YndFcC",
        "colab_type": "text"
      },
      "cell_type": "markdown",
      "source": [
        "# From scratch\n",
        "\n",
        "\n",
        "\n"
      ]
    },
    {
      "metadata": {
        "id": "9acpJWbvfnjI",
        "colab_type": "text"
      },
      "cell_type": "markdown",
      "source": [
        "\n",
        "The Python path should be set to the src of facenet repo in order for this program to work."
      ]
    },
    {
      "metadata": {
        "id": "HFnADqqwWcCb",
        "colab_type": "code",
        "colab": {}
      },
      "cell_type": "code",
      "source": [
        "# import sys\n",
        "import os\n",
        "os.environ[\"PYTHONPATH\"] = \"/content/facenet/src\""
      ],
      "execution_count": 0,
      "outputs": []
    },
    {
      "metadata": {
        "id": "WRqPSD9PdiuZ",
        "colab_type": "text"
      },
      "cell_type": "markdown",
      "source": [
        "Acuqire all the data using this snippet. The commented out line is used for printing the file names that are downlaoded. I found that I don't need this, but it might be useful if you are trying to acquire it for the first time."
      ]
    },
    {
      "metadata": {
        "id": "QoovOaobXegO",
        "colab_type": "code",
        "colab": {}
      },
      "cell_type": "code",
      "source": [
        "try:\n",
        "    os.makedirs('/content/face_data/') #make the directory\n",
        "except: \n",
        "    pass\n",
        "\n",
        "# get the file list within the id given after the parameter 'q'. This ID can be\n",
        "# found on the Drive as the last part of the whole drive link.\n",
        "file_list = drive.ListFile(\n",
        "    {'q': \"'1FgxBnqzUKMTqFidfwf8EHpIWanPEJkZn' in parents\"}).GetList() \n",
        "\n",
        "\n",
        "# acquire all the target folders, which are the folders that still exists\n",
        "# in the directed repo.\n",
        "target_folders = []\n",
        "for file in file_list:\n",
        "  if file['labels']['trashed'] != True:\n",
        "    target_folders.append(file)\n",
        "\n",
        "# Download all the files from that folder\n",
        "for file in target_folders:\n",
        "  file_list = drive.ListFile(\n",
        "      {'q':\"'{}' in parents\".format(file['id'])}).GetList()\n",
        "  local_download_path = os.path.expanduser('/content/face_data/' + file['title'])\n",
        "  \n",
        "  try:\n",
        "    os.makedirs(local_download_path)\n",
        "  except: pass\n",
        "  \n",
        "  for f in file_list:\n",
        "    fname = os.path.join(local_download_path, f['title'])\n",
        "#     print(fname,end=\"\")\n",
        "    downloaded = drive.CreateFile({'id': f['id']})\n",
        "    content = downloaded.GetContentFile(fname)"
      ],
      "execution_count": 0,
      "outputs": []
    },
    {
      "metadata": {
        "id": "Djut3CIKHI5Y",
        "colab_type": "text"
      },
      "cell_type": "markdown",
      "source": [
        "# From a zip file"
      ]
    },
    {
      "metadata": {
        "id": "0t1yUTnt1nB6",
        "colab_type": "code",
        "outputId": "998a6463-933f-4596-cd5f-e32e0492c92b",
        "colab": {
          "base_uri": "https://localhost:8080/",
          "height": 34
        }
      },
      "cell_type": "code",
      "source": [
        "import pydrive\n",
        "\n",
        "file_list = drive.ListFile(\n",
        "    {'q': \"'1eZoN0BR8J6-VMaDK4U73A4pocX5RdqeY' in parents\"}).GetList()\n",
        "\n",
        "local_download_path = os.path.expanduser('/content/face_data/')\n",
        "  \n",
        "try:\n",
        "  os.makedirs(local_download_path)\n",
        "except: pass\n",
        "\n",
        "for f in file_list:\n",
        "  fname = os.path.join(local_download_path, f['title'])\n",
        "  print(fname)\n",
        "  downloaded = drive.CreateFile({'id': f['id']})\n",
        "  content = downloaded.GetContentFile(fname)\n",
        "  "
      ],
      "execution_count": 10,
      "outputs": [
        {
          "output_type": "stream",
          "text": [
            "/content/face_data/aligned_images.zip\n"
          ],
          "name": "stdout"
        }
      ]
    },
    {
      "metadata": {
        "id": "vd9rgVEB2JMe",
        "colab_type": "code",
        "colab": {
          "base_uri": "https://localhost:8080/",
          "height": 198
        },
        "outputId": "a0523031-6b84-4584-803a-afac70959e08"
      },
      "cell_type": "code",
      "source": [
        "os.chdir(\"/content/face_data\")\n",
        "!unzip aligned_images.zip\n",
        "os.chdir(\"/content\")"
      ],
      "execution_count": 12,
      "outputs": [
        {
          "output_type": "error",
          "ename": "FileNotFoundError",
          "evalue": "ignored",
          "traceback": [
            "\u001b[0;31m---------------------------------------------------------------------------\u001b[0m",
            "\u001b[0;31mFileNotFoundError\u001b[0m                         Traceback (most recent call last)",
            "\u001b[0;32m<ipython-input-12-b4445f60829f>\u001b[0m in \u001b[0;36m<module>\u001b[0;34m()\u001b[0m\n\u001b[0;32m----> 1\u001b[0;31m \u001b[0mos\u001b[0m\u001b[0;34m.\u001b[0m\u001b[0mchdir\u001b[0m\u001b[0;34m(\u001b[0m\u001b[0;34m\"\"\u001b[0m\u001b[0;34m)\u001b[0m\u001b[0;34m\u001b[0m\u001b[0;34m\u001b[0m\u001b[0m\n\u001b[0m\u001b[1;32m      2\u001b[0m \u001b[0mget_ipython\u001b[0m\u001b[0;34m(\u001b[0m\u001b[0;34m)\u001b[0m\u001b[0;34m.\u001b[0m\u001b[0msystem\u001b[0m\u001b[0;34m(\u001b[0m\u001b[0;34m'unzip aligned_images.zip'\u001b[0m\u001b[0;34m)\u001b[0m\u001b[0;34m\u001b[0m\u001b[0;34m\u001b[0m\u001b[0m\n\u001b[1;32m      3\u001b[0m \u001b[0mos\u001b[0m\u001b[0;34m.\u001b[0m\u001b[0mchdir\u001b[0m\u001b[0;34m(\u001b[0m\u001b[0;34m\"/content\"\u001b[0m\u001b[0;34m)\u001b[0m\u001b[0;34m\u001b[0m\u001b[0;34m\u001b[0m\u001b[0m\n",
            "\u001b[0;31mFileNotFoundError\u001b[0m: [Errno 2] No such file or directory: ''"
          ]
        }
      ]
    },
    {
      "metadata": {
        "id": "WqMxGOCrIZSh",
        "colab_type": "code",
        "colab": {}
      },
      "cell_type": "code",
      "source": [
        "os.chdir(\"/content\")\n",
        "!mkdir /content/face_data/training\n",
        "!mv /content/face_data/content/face_data/aligned_faces/* /content/face_data/training\n",
        "# !rm -f -r /content/training"
      ],
      "execution_count": 0,
      "outputs": []
    },
    {
      "metadata": {
        "id": "lfYqpCKFbZYF",
        "colab_type": "text"
      },
      "cell_type": "markdown",
      "source": [
        "# Aligning the Faces"
      ]
    },
    {
      "metadata": {
        "id": "HAYwH-BalTRY",
        "colab_type": "text"
      },
      "cell_type": "markdown",
      "source": [
        "For the snippet below\n",
        "\n",
        "\n",
        "```\n",
        "!for N in {1..4}; do \\\n",
        "python src/align/align_dataset_mtcnn.py \\\n",
        "<unalligned_images_path> \\\n",
        "<alligned_images_path> \\\n",
        "--image_size <size> \\\n",
        "--margin <margin> \\ \n",
        "--random_order \\ # this is done for gpu enabled devices\n",
        "--gpu_memory_fraction 0.25 \\ #use 4 processes\n",
        "& done\n",
        "```\n",
        "\n",
        "This code will use 4 processes in order to complete, so it takes shorter than usual."
      ]
    },
    {
      "metadata": {
        "id": "Q7irEkUQf8nJ",
        "colab_type": "code",
        "colab": {}
      },
      "cell_type": "code",
      "source": [
        "# !echo $PYTHONPATH\n",
        "os.chdir('facenet')\n",
        "!for N in {1..4}; do \\\n",
        "python src/align/align_dataset_mtcnn.py \\\n",
        "/content/face_data/ \\\n",
        "/content/face_data/aligned_faces \\\n",
        "--image_size 182 \\\n",
        "--margin 44 \\\n",
        "--random_order \\\n",
        "--gpu_memory_fraction 0.25 \\\n",
        "& done\n"
      ],
      "execution_count": 0,
      "outputs": []
    },
    {
      "metadata": {
        "id": "10j9ehzRqh0p",
        "colab_type": "code",
        "colab": {}
      },
      "cell_type": "code",
      "source": [
        "!zip -r /content/aligned_images.zip /content/face_data"
      ],
      "execution_count": 0,
      "outputs": []
    },
    {
      "metadata": {
        "id": "NAHMNKNtePYX",
        "colab_type": "code",
        "colab": {}
      },
      "cell_type": "code",
      "source": [
        "os.chdir(\"/content\") # make the cwd the content to send the zip file to drive.\n",
        "file1 = drive.CreateFile({\"parents\": [{\"id\": \"1eZoN0BR8J6-VMaDK4U73A4pocX5RdqeY\"}]})\n",
        "file1.SetContentFile(\"aligned_images.zip\")\n",
        "file1.Upload()\n",
        "os.chdir(\"/content/facenet\") # go back to the right place for the data training"
      ],
      "execution_count": 0,
      "outputs": []
    },
    {
      "metadata": {
        "id": "P-lbqxTykNk0",
        "colab_type": "text"
      },
      "cell_type": "markdown",
      "source": [
        "If you want to train and evaluate your data on LFW, you need to download [this](http://vis-www.cs.umass.edu/lfw/lfw.tgz) and align the faces for this aswell."
      ]
    },
    {
      "metadata": {
        "id": "QoGNLjWXkAX_",
        "colab_type": "code",
        "colab": {}
      },
      "cell_type": "code",
      "source": [
        "file_list = drive.ListFile(\n",
        "    {'q': \"'1pzj4L1e2TLAbEiwKyW8vnAhoYNYFtLBY' in parents\"}).GetList()\n",
        "\n",
        "local_download_path = os.path.expanduser('/content/face_data/lfw')\n",
        "  \n",
        "try:\n",
        "  os.makedirs(local_download_path)\n",
        "except: pass\n",
        "\n",
        "for f in file_list:\n",
        "  fname = os.path.join(local_download_path, f['title'])\n",
        "  print(fname)\n",
        "  downloaded = drive.CreateFile({'id': f['id']})\n",
        "  content = downloaded.GetContentFile(fname)\n"
      ],
      "execution_count": 0,
      "outputs": []
    },
    {
      "metadata": {
        "id": "nkkrEMF0mLAS",
        "colab_type": "code",
        "colab": {}
      },
      "cell_type": "code",
      "source": [
        "os.chdir(\"/content/face_data\")\n",
        "!mkdir -p lfw/raw\n",
        "!tar xvf /content/face_data/lfw/lfw.tgz -C lfw/raw --strip-components=1"
      ],
      "execution_count": 0,
      "outputs": []
    },
    {
      "metadata": {
        "id": "GRO6ZN3VxW0x",
        "colab_type": "code",
        "colab": {}
      },
      "cell_type": "code",
      "source": [
        "!ls"
      ],
      "execution_count": 0,
      "outputs": []
    },
    {
      "metadata": {
        "id": "H9FgKaoIregk",
        "colab_type": "code",
        "colab": {}
      },
      "cell_type": "code",
      "source": [
        "os.chdir(\"lfw/raw\")\n",
        "!ls"
      ],
      "execution_count": 0,
      "outputs": []
    },
    {
      "metadata": {
        "id": "yuIUWuU9mC4m",
        "colab_type": "code",
        "colab": {}
      },
      "cell_type": "code",
      "source": [
        "os.chdir(\"/content/facenet\")\n",
        "!for N in {1..4}; do \\\n",
        "python src/align/align_dataset_mtcnn.py \\\n",
        "/content/face_data/lfw/raw \\\n",
        "/content/face_data/lfw_aligned \\\n",
        "--image_size 182 \\\n",
        "--margin 44 \\\n",
        "--random_order \\\n",
        "--gpu_memory_fraction 0.25 \\\n",
        "& done"
      ],
      "execution_count": 0,
      "outputs": []
    },
    {
      "metadata": {
        "id": "WQKTtjzibkMj",
        "colab_type": "text"
      },
      "cell_type": "markdown",
      "source": [
        "# Training the Data"
      ]
    },
    {
      "metadata": {
        "id": "dBctPVK0S4fv",
        "colab_type": "text"
      },
      "cell_type": "markdown",
      "source": [
        "In Python 3, the dict.itermitems() attribute was removed and dict.items() was replaced with it. Therefore, I changed and upload this to the main directory. I had to move it to the right place before starting the training.\n",
        "\n",
        "The classifier function had a similar problem where an assert statement was always true, so I had to remove the parentheses.  \n",
        "\n",
        "**Changes**\n",
        "\n",
        "\n",
        "1.   train_softmax.py Line 260: **for key, value in stat.iter_items(): --> for key, value in stat.items(): **\n",
        "2.   classifier.py Line 59: **assert (len(cls.image_paths)>0, 'There must be at least one image for each class in the dataset') --> assert len(cls.image_paths)>0, 'There must be at least one image for each class in the dataset'**"
      ]
    },
    {
      "metadata": {
        "id": "3kD7v2AKSLNm",
        "colab_type": "code",
        "colab": {}
      },
      "cell_type": "code",
      "source": [
        "!mv /train_softmax.py /content/facenet/src/train_softmax.py\n",
        "!mv /classifier.py /content/facenet/src/classifier.py"
      ],
      "execution_count": 0,
      "outputs": []
    },
    {
      "metadata": {
        "id": "fGjgH4WZhyDy",
        "colab_type": "code",
        "colab": {}
      },
      "cell_type": "code",
      "source": [
        "!mv /learning_rate_schedule_classifier_haxon.txt /content/facenet/data/learning_rate_schedule_classifier_haxon.txt "
      ],
      "execution_count": 0,
      "outputs": []
    },
    {
      "metadata": {
        "id": "7GMaSKZagUgv",
        "colab_type": "text"
      },
      "cell_type": "markdown",
      "source": [
        "The explanations for the snippet below can be found  [here](https://github.com/davidsandberg/facenet/wiki/Classifier-training-of-inception-resnet-v1).\n",
        "\n",
        "This will create a model, which can be later used for further training classiying the faces that I want to use. The model will be created in log_base_dir specified. For further details, you can visit the link mentioned above."
      ]
    },
    {
      "metadata": {
        "id": "thgfQPqplRPC",
        "colab_type": "code",
        "colab": {}
      },
      "cell_type": "code",
      "source": [
        "os.chdir(\"/content/facenet\")\n",
        "!python src/train_softmax.py \\\n",
        "--logs_base_dir /content/face_data/logs/facenet/ \\\n",
        "--models_base_dir /content/face_data/model_dir/ \\\n",
        "--data_dir /content/face_data/training/ \\\n",
        "--image_size 160 \\\n",
        "--model_def models.inception_resnet_v1 \\\n",
        "--optimizer ADAM \\\n",
        "--learning_rate -1 \\\n",
        "--max_nrof_epochs 150 \\\n",
        "--keep_probability 0.8 \\\n",
        "--random_crop \\\n",
        "--random_flip \\\n",
        "--use_fixed_image_standardization \\\n",
        "--learning_rate_schedule_file data/learning_rate_schedule_classifier_haxon.txt \\\n",
        "--weight_decay 5e-4 \\\n",
        "--embedding_size 512 \\\n",
        "--lfw_use_flipped_images \\\n",
        "--lfw_subtract_mean \\\n",
        "--validation_set_split_ratio 0.2 \\\n",
        "--validate_every_n_epochs 5 \\\n",
        "--prelogits_norm_loss_factor 5e-4"
      ],
      "execution_count": 0,
      "outputs": []
    },
    {
      "metadata": {
        "id": "VEJQXaxJMtFc",
        "colab_type": "code",
        "colab": {}
      },
      "cell_type": "code",
      "source": [
        "!python /content/facenet/src/classifier.py \\\n",
        "TRAIN \\\n",
        "/content/face_data/final_train_data/ \\\n",
        "/content/face_data/model_dir/ \\\n",
        "/content/face_data/model_dir/my_model.pkl \\\n",
        "--use_split_dataset \\\n",
        "--batch_size 90 \\\n",
        "--image_size 160 \\\n",
        "--nrof_train_images_per_class 100"
      ],
      "execution_count": 0,
      "outputs": []
    },
    {
      "metadata": {
        "id": "nRctmHNBXGPW",
        "colab_type": "code",
        "colab": {}
      },
      "cell_type": "code",
      "source": [
        "!python /content/facenet/src/classifier.py \\\n",
        "CLASSIFY \\\n",
        "/content/facenet/tmp_test/ \\\n",
        "/content/face_data/model_dir/ \\\n",
        "/content/face_data/model_dir/my_model.pkl \\\n",
        "--test_data_dir /content/facenet/tmp_test/ \\\n",
        "--image_size 160 \\"
      ],
      "execution_count": 0,
      "outputs": []
    }
  ]
}